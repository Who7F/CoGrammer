{
 "cells": [
  {
   "cell_type": "markdown",
   "metadata": {
    "id": "lqt_yzRy16Wj"
   },
   "source": [
    "## Task\n",
    "\n",
    "In this compulsory task you will clean the country column and parse the date column in the **store_income_data_task.csv** file."
   ]
  },
  {
   "cell_type": "code",
   "execution_count": 1,
   "metadata": {},
   "outputs": [],
   "source": [
    "import pandas as pd\n",
    "import numpy as np\n",
    "from datetime import date"
   ]
  },
  {
   "cell_type": "code",
   "execution_count": 2,
   "metadata": {
    "id": "vBP3WN2O16Wp"
   },
   "outputs": [],
   "source": [
    "# Load up store_income_data.csv\n",
    "df = pd.read_csv('store_income_data_task.csv', skipinitialspace = True)"
   ]
  },
  {
   "cell_type": "markdown",
   "metadata": {
    "id": "ItqLwumA16Wr"
   },
   "source": [
    "1. Take a look at all the unique values in the \"country\" column. Then, convert the column to lowercase and remove any trailing white spaces."
   ]
  },
  {
   "cell_type": "code",
   "execution_count": 3,
   "metadata": {
    "id": "sLkzt4Hr16Wr"
   },
   "outputs": [
    {
     "data": {
      "text/plain": [
       "id                int64\n",
       "store_name       object\n",
       "store_email      object\n",
       "department       object\n",
       "income           object\n",
       "date_measured    object\n",
       "country          object\n",
       "dtype: object"
      ]
     },
     "execution_count": 3,
     "metadata": {},
     "output_type": "execute_result"
    }
   ],
   "source": [
    "df.dtypes"
   ]
  },
  {
   "cell_type": "code",
   "execution_count": 4,
   "metadata": {},
   "outputs": [
    {
     "name": "stdout",
     "output_type": "stream",
     "text": [
      "0    United States/\n",
      "1           Britain\n",
      "2     United States\n",
      "3          Britain/\n",
      "4    United Kingdom\n",
      "Name: country, dtype: object\n"
     ]
    }
   ],
   "source": [
    "print(df['country'].head())"
   ]
  },
  {
   "cell_type": "code",
   "execution_count": 5,
   "metadata": {},
   "outputs": [
    {
     "data": {
      "text/plain": [
       "0     united states\n",
       "1           britain\n",
       "2     united states\n",
       "3           britain\n",
       "4    united kingdom\n",
       "Name: country, dtype: object"
      ]
     },
     "execution_count": 5,
     "metadata": {},
     "output_type": "execute_result"
    }
   ],
   "source": [
    "df['country'] = df['country'].str.lower()\n",
    "df['country'] = df['country'].str.strip(' ./')\n",
    "df['country'].head()"
   ]
  },
  {
   "cell_type": "markdown",
   "metadata": {
    "id": "P6dcDc4P16Ws"
   },
   "source": [
    "2. Note that there should only be three separate countries. Eliminate all variations, so that 'South Africa', 'United Kingdom' and 'United States' are the only three countries."
   ]
  },
  {
   "cell_type": "code",
   "execution_count": 6,
   "metadata": {
    "id": "qeV3CxMR16Ws"
   },
   "outputs": [
    {
     "data": {
      "text/plain": [
       "0     United States\n",
       "1    United Kingdom\n",
       "2     United States\n",
       "3    United Kingdom\n",
       "4    United Kingdom\n",
       "Name: country, dtype: object"
      ]
     },
     "execution_count": 6,
     "metadata": {},
     "output_type": "execute_result"
    }
   ],
   "source": [
    "patten_mapping = {}\n",
    "for i in df['country']:\n",
    "    if type(i) == float:\n",
    "        pass\n",
    "    elif i == 'united states' or i == 'u.s' or 'america' in i:\n",
    "        patten_mapping.update({i: 'United States'})\n",
    "    elif i == 'united kingdom' or i == 'uk' or i == 'u.k' or i == 'britain' or i == 'england':\n",
    "        patten_mapping.update({i: 'United Kingdom'})\n",
    "    elif i == 'sa' or i == 's.a' or 'africasouth' in i:\n",
    "        patten_mapping.update({i: 'South Africa'})\n",
    "    else:\n",
    "        patten_mapping.update({i: np.nan})\n",
    "                \n",
    "df['country'] = df['country'].replace(patten_mapping)\n",
    "df['country'].head()   "
   ]
  },
  {
   "cell_type": "code",
   "execution_count": 7,
   "metadata": {},
   "outputs": [
    {
     "name": "stdout",
     "output_type": "stream",
     "text": [
      "['United States' 'United Kingdom' 'South Africa' nan]\n"
     ]
    }
   ],
   "source": [
    "print(df['country'].unique())"
   ]
  },
  {
   "cell_type": "markdown",
   "metadata": {},
   "source": [
    "No. There is nan data"
   ]
  },
  {
   "cell_type": "markdown",
   "metadata": {
    "id": "UJZDMTwP16Ws"
   },
   "source": [
    "3. Create a new column called `days_ago` in the DataFrame that is a copy of the 'date_measured' column but instead it is a number that shows how many days ago it was measured from the current date. Note that the current date can be obtained using `datetime.date.today()`."
   ]
  },
  {
   "cell_type": "code",
   "execution_count": 8,
   "metadata": {
    "id": "gMJbN84P16Wt"
   },
   "outputs": [],
   "source": [
    "time_stamp = pd.Timestamp(date.today())\n",
    "df['days_ago'] = (time_stamp - pd.to_datetime(df['date_measured'], dayfirst=True))"
   ]
  },
  {
   "cell_type": "code",
   "execution_count": 9,
   "metadata": {},
   "outputs": [
    {
     "name": "stdout",
     "output_type": "stream",
     "text": [
      "0    6628 days\n",
      "1    6659 days\n",
      "2    7504 days\n",
      "3    6535 days\n",
      "4   18695 days\n",
      "Name: days_ago, dtype: timedelta64[ns]\n"
     ]
    }
   ],
   "source": [
    "print(df['days_ago'].head())"
   ]
  }
 ],
 "metadata": {
  "colab": {
   "provenance": []
  },
  "kernelspec": {
   "display_name": "Python 3 (ipykernel)",
   "language": "python",
   "name": "python3"
  },
  "language_info": {
   "codemirror_mode": {
    "name": "ipython",
    "version": 3
   },
   "file_extension": ".py",
   "mimetype": "text/x-python",
   "name": "python",
   "nbconvert_exporter": "python",
   "pygments_lexer": "ipython3",
   "version": "3.11.3"
  },
  "vscode": {
   "interpreter": {
    "hash": "63d17dc58a06b6a6d4136fb13c245dafcf53668da37b1c3052c24d689135f5bb"
   }
  }
 },
 "nbformat": 4,
 "nbformat_minor": 4
}
