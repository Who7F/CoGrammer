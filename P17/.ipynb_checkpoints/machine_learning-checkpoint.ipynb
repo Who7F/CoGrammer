{
 "cells": [
  {
   "cell_type": "raw",
   "metadata": {},
   "source": [
    "Improve:\n",
    "William, unfortunately, I will have to request for a resubmission. For compulsory task 3, you are not going far enough to justify your answers. You need to at least write a sentence or two to justify your answer as this will demonstrate your understanding of the concepts being covered."
   ]
  },
  {
   "cell_type": "markdown",
   "metadata": {},
   "source": [
    "Okie dokie"
   ]
  },
  {
   "cell_type": "markdown",
   "metadata": {
    "id": "IBb6nSAY5T4I"
   },
   "source": [
    "# Machine Learning"
   ]
  },
  {
   "cell_type": "markdown",
   "metadata": {
    "id": "N02Qu9_f1N45"
   },
   "source": [
    "1. For each of the following examples describe at least one possible input and\n",
    "output. Justify your answers:  \n",
    "* 1.1 A self-driving car\n",
    "* 1.2 Netflix recommendation system\n",
    "* 1.3 Signature recognition\n",
    "* 1.4 Medical diagnosis\n"
   ]
  },
  {
   "cell_type": "markdown",
   "metadata": {
    "id": "-8aBqprP3ypo"
   },
   "source": [
    "1. Answer here\n",
    "\n",
    "|      | Input(s)            | Output          |\n",
    "\n",
    "| 1.1  | Radar sensors       | Throttle        | \n",
    "\n",
    "This is a classic closed-loop control. The radar sensors, see if is safe to apply the throttle. If it safe the throttle is applied. Then the radar sensor, check is it still safe to throttle. Works in the similar way as ABS breaks. \n",
    "\n",
    "There has been problem with a stick closed-loop control the system and self driving cars in the past. With the stick control of the distance of the cars is can make the journey unpleasant. \n",
    "\n",
    "| 1.2  | Time Watched        | recommendations |\n",
    "\n",
    "Correlation does not imply causation. However with a large amount of data you can use things like the PC algorithm to recommend shows that you might like. Which in turn will increase your watching time, and increase the data pool.\n",
    "\n",
    "| 1.3  | Images              | Score           | Image recognition\n",
    "\n",
    "By using things like Convolutional Neural Networks, which is a class of deep learning. Breaking an image in to sectors, then give each of those sectors a score of 0 or 1.  Now we move on to the deep part of deep learning and these score past though a layers of node, with each level getting news scores.\n",
    "\n",
    "You can also use deep learning to spot when a signature is too good. \n",
    "\n",
    "| 1.4  | Electrical Activity |  traced by needles on paper  | ECG \n",
    "\n",
    "Electrocardiogram is a test that records the electrical activity of your heart, including the rate and rhythm. One of the way this can be output is traced by needles on paper, an open Loop system.\n",
    "\n",
    "Modern defibrillators that you would find at you local gym, check electrical activity before given the user instructions on what to do."
   ]
  },
  {
   "cell_type": "markdown",
   "metadata": {
    "id": "l_I2f4C85yNF"
   },
   "source": [
    "\n",
    "2. For each of the following case studies, determine whether it is appropriate to utilise regression or classification machine learning algorithms. Justify your answers:\n",
    "* 2.1 Classifying emails as promotion or social based on their content and metadata.\n",
    "* 2.2 Forecasting the stock price of a company based on historical data and market trends.\n",
    "* 2.3 Sorting images of animals into different species based on their visual features.\n",
    "* 2.4 Predicting the likelihood of a patient having a particular disease based on medical history and diagnostic test results."
   ]
  },
  {
   "cell_type": "markdown",
   "metadata": {
    "id": "WgMUsqQr6qFU"
   },
   "source": [
    "2. Answer here\n",
    "* 2.1 Classification. Metadata and content both fall naturally in to categories. Its to classify emails, and not to return a state to see if emails are getting worse.\n",
    "* 2.2 Regression. Make a prediction, using stock price, that are both real and rational numbers.  Nothing has been ask about categories.\n",
    "* 2.3 Classification. Visual features fall naturally in to categories. No state of the animals has been asked for. Sorting images in to catagories.\n",
    "* 2.4 Regression. Make a prediction. Diseases can be categorized, but if for a single disease. And the result needs to be a value."
   ]
  },
  {
   "cell_type": "markdown",
   "metadata": {
    "id": "b6f8UETG64hH"
   },
   "source": [
    "3. For each of the following real-world problems, determine whether it is appropriate to utilise a supervised or unsupervised machine learning algorithm. Justify your answers:\n",
    "* 3.1 Detecting anomalies in a manufacturing process using sensor data without prior knowledge of specific anomaly patterns.\n",
    "* 3.2 Predicting customer lifetime value based on historical transaction data and customer demographics.\n",
    "* 3.3 Segmenting customer demographics based on their purchase history, browsing behaviour, and preferences.\n",
    "* 3.4 Analysing social media posts to categorise them into different themes.\n"
   ]
  },
  {
   "cell_type": "markdown",
   "metadata": {
    "id": "W6dTYBvd675O"
   },
   "source": [
    "3. Answer here\n",
    "* 3.1 Unsupervised. In maths finding a value outside the standard deviation does not require supervised learning.  Also its not labeled. I believe its unsupervised clustering that is needed here.\n",
    "* 3.2 Supervised. Labeled data, and a prediction. Regression is part of supervised learning.\n",
    "* 3.3 Both. The question needs more information. Or not to use the w\n",
    "Either Use labeled data and classification which is part of supervised learning. You would need to train the model to make predictions about customer demographics, based on their purchase history, browsing behaviour, and preferences.\n",
    "Or Association whis is unsupervised. demographics would be unlabeled. You would find out what items are bought together. \n",
    "Real-world. Unsupervised. However you used the word demographics. \n",
    "* 3.4 Supervised. Classification. You would need to train a model to categorise themes."
   ]
  },
  {
   "cell_type": "markdown",
   "metadata": {
    "id": "bqsun96o64xe"
   },
   "source": [
    "4.\n",
    "For each of the following real-world problems, determine whether it is appropriate to utilise semi-supervised machine learning algorithms. Justify your answers:\n",
    "* 4.1 Predicting fraudulent financial transactions using a dataset where most transactions are labelled as fraudulent or legitimate.\n",
    "* 4.2 Analysing customer satisfaction surveys where only a small portion of the data is labelled with satisfaction ratings.\n",
    "*4.3 Identifying spam emails in a dataset where the majority of emails are labelled.\n",
    "* 4.4 Predicting the probability of default for credit card applicants based on their complete financial and credit-related information.\n"
   ]
  },
  {
   "cell_type": "raw",
   "metadata": {
    "id": "aTWugZ6q68GF"
   },
   "source": [
    "4. Answer here\n",
    "* 4.1 No. Most are labelled. We can use supervised learning. Its also dealing with financial records, so errors maybe expensive  \n",
    "* 4.2 Yes. Small pertion labelled, low importance of accuracy, in comparison to the above.\n",
    "* 4.3 Either. Most are labelled so you can use supervised. It has low importance of accuracy. So come down to cost and security.\n",
    "A not on security. Better spam detection does not alway mean better security. Fishing email for example, often take of being complacency due to good spam detection.  \n",
    "* 4.4 No. Most are labelled. High importance of accuracy. Use supervised"
   ]
  }
 ],
 "metadata": {
  "colab": {
   "provenance": []
  },
  "kernelspec": {
   "display_name": "Python 3 (ipykernel)",
   "language": "python",
   "name": "python3"
  },
  "language_info": {
   "codemirror_mode": {
    "name": "ipython",
    "version": 3
   },
   "file_extension": ".py",
   "mimetype": "text/x-python",
   "name": "python",
   "nbconvert_exporter": "python",
   "pygments_lexer": "ipython3",
   "version": "3.11.3"
  }
 },
 "nbformat": 4,
 "nbformat_minor": 4
}
