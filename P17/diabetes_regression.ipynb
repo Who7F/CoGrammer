{
 "cells": [
  {
   "cell_type": "markdown",
   "id": "99efd945-c637-45e5-9127-c0d2b9baf156",
   "metadata": {},
   "source": [
    "04/04/2024"
   ]
  },
  {
   "cell_type": "code",
   "execution_count": 1,
   "id": "0308fd8c-48aa-4b52-9b3a-b52e2aec415a",
   "metadata": {},
   "outputs": [],
   "source": [
    "import pandas as pd\n",
    "import numpy as np\n",
    "from sklearn.model_selection import train_test_split\n",
    "from sklearn.preprocessing import StandardScaler\n",
    "from sklearn.linear_model import LinearRegression\n",
    "from sklearn.metrics import r2_score"
   ]
  },
  {
   "cell_type": "code",
   "execution_count": 2,
   "id": "e3f55565-97ed-4c79-b1ba-908b18df4e02",
   "metadata": {},
   "outputs": [
    {
     "data": {
      "text/html": [
       "<div>\n",
       "<style scoped>\n",
       "    .dataframe tbody tr th:only-of-type {\n",
       "        vertical-align: middle;\n",
       "    }\n",
       "\n",
       "    .dataframe tbody tr th {\n",
       "        vertical-align: top;\n",
       "    }\n",
       "\n",
       "    .dataframe thead th {\n",
       "        text-align: right;\n",
       "    }\n",
       "</style>\n",
       "<table border=\"1\" class=\"dataframe\">\n",
       "  <thead>\n",
       "    <tr style=\"text-align: right;\">\n",
       "      <th></th>\n",
       "      <th>Pregnancies</th>\n",
       "      <th>Glucose</th>\n",
       "      <th>BloodPressure</th>\n",
       "      <th>SkinThickness</th>\n",
       "      <th>Insulin</th>\n",
       "      <th>BMI</th>\n",
       "      <th>DiabetesPedigreeFunction</th>\n",
       "      <th>Age</th>\n",
       "      <th>Outcome</th>\n",
       "    </tr>\n",
       "  </thead>\n",
       "  <tbody>\n",
       "    <tr>\n",
       "      <th>0</th>\n",
       "      <td>6</td>\n",
       "      <td>148</td>\n",
       "      <td>72</td>\n",
       "      <td>35</td>\n",
       "      <td>0</td>\n",
       "      <td>33.6</td>\n",
       "      <td>0.627</td>\n",
       "      <td>50</td>\n",
       "      <td>1</td>\n",
       "    </tr>\n",
       "    <tr>\n",
       "      <th>1</th>\n",
       "      <td>1</td>\n",
       "      <td>85</td>\n",
       "      <td>66</td>\n",
       "      <td>29</td>\n",
       "      <td>0</td>\n",
       "      <td>26.6</td>\n",
       "      <td>0.351</td>\n",
       "      <td>31</td>\n",
       "      <td>0</td>\n",
       "    </tr>\n",
       "    <tr>\n",
       "      <th>2</th>\n",
       "      <td>8</td>\n",
       "      <td>183</td>\n",
       "      <td>64</td>\n",
       "      <td>0</td>\n",
       "      <td>0</td>\n",
       "      <td>23.3</td>\n",
       "      <td>0.672</td>\n",
       "      <td>32</td>\n",
       "      <td>1</td>\n",
       "    </tr>\n",
       "    <tr>\n",
       "      <th>3</th>\n",
       "      <td>1</td>\n",
       "      <td>89</td>\n",
       "      <td>66</td>\n",
       "      <td>23</td>\n",
       "      <td>94</td>\n",
       "      <td>28.1</td>\n",
       "      <td>0.167</td>\n",
       "      <td>21</td>\n",
       "      <td>0</td>\n",
       "    </tr>\n",
       "    <tr>\n",
       "      <th>4</th>\n",
       "      <td>0</td>\n",
       "      <td>137</td>\n",
       "      <td>40</td>\n",
       "      <td>35</td>\n",
       "      <td>168</td>\n",
       "      <td>43.1</td>\n",
       "      <td>2.288</td>\n",
       "      <td>33</td>\n",
       "      <td>1</td>\n",
       "    </tr>\n",
       "  </tbody>\n",
       "</table>\n",
       "</div>"
      ],
      "text/plain": [
       "   Pregnancies  Glucose  BloodPressure  SkinThickness  Insulin   BMI   \n",
       "0            6      148             72             35        0  33.6  \\\n",
       "1            1       85             66             29        0  26.6   \n",
       "2            8      183             64              0        0  23.3   \n",
       "3            1       89             66             23       94  28.1   \n",
       "4            0      137             40             35      168  43.1   \n",
       "\n",
       "   DiabetesPedigreeFunction  Age  Outcome  \n",
       "0                     0.627   50        1  \n",
       "1                     0.351   31        0  \n",
       "2                     0.672   32        1  \n",
       "3                     0.167   21        0  \n",
       "4                     2.288   33        1  "
      ]
     },
     "execution_count": 2,
     "metadata": {},
     "output_type": "execute_result"
    }
   ],
   "source": [
    "# Read the dataset into a DataFrame\n",
    "data = pd.read_csv(\"diabetes_updated.csv\")\n",
    "data.head()"
   ]
  },
  {
   "cell_type": "markdown",
   "id": "2a29d510-d508-44dd-8157-2f3b02e4a22a",
   "metadata": {},
   "source": [
    "Person’s progression! I did ask about this, and got ignored. I guessing I to use the outcome."
   ]
  },
  {
   "cell_type": "code",
   "execution_count": 3,
   "id": "1ff7df3e-ab34-4a5c-9b26-7658fbb0f38e",
   "metadata": {},
   "outputs": [],
   "source": [
    "# Differentiate between independent and dependent variables\n",
    "X = data.drop(columns=['Outcome'])  # Independent variables\n",
    "Y = data['Outcome']  # Dependent variable"
   ]
  },
  {
   "cell_type": "code",
   "execution_count": 4,
   "id": "ccfde914-de32-4169-8e2d-c75c2c6aa0e5",
   "metadata": {},
   "outputs": [],
   "source": [
    "# Generate training and test sets\n",
    "X_train, X_test, Y_train, Y_test = train_test_split(X, Y, test_size=0.2, random_state=42)"
   ]
  },
  {
   "cell_type": "code",
   "execution_count": 5,
   "id": "53a60656-f6d7-4488-b825-d1578b050f38",
   "metadata": {},
   "outputs": [
    {
     "data": {
      "text/html": [
       "<div>\n",
       "<style scoped>\n",
       "    .dataframe tbody tr th:only-of-type {\n",
       "        vertical-align: middle;\n",
       "    }\n",
       "\n",
       "    .dataframe tbody tr th {\n",
       "        vertical-align: top;\n",
       "    }\n",
       "\n",
       "    .dataframe thead th {\n",
       "        text-align: right;\n",
       "    }\n",
       "</style>\n",
       "<table border=\"1\" class=\"dataframe\">\n",
       "  <thead>\n",
       "    <tr style=\"text-align: right;\">\n",
       "      <th></th>\n",
       "      <th>Pregnancies</th>\n",
       "      <th>Glucose</th>\n",
       "      <th>BloodPressure</th>\n",
       "      <th>SkinThickness</th>\n",
       "      <th>Insulin</th>\n",
       "      <th>BMI</th>\n",
       "      <th>DiabetesPedigreeFunction</th>\n",
       "      <th>Age</th>\n",
       "    </tr>\n",
       "  </thead>\n",
       "  <tbody>\n",
       "    <tr>\n",
       "      <th>60</th>\n",
       "      <td>2</td>\n",
       "      <td>84</td>\n",
       "      <td>0</td>\n",
       "      <td>0</td>\n",
       "      <td>0</td>\n",
       "      <td>0.0</td>\n",
       "      <td>0.304</td>\n",
       "      <td>21</td>\n",
       "    </tr>\n",
       "    <tr>\n",
       "      <th>618</th>\n",
       "      <td>9</td>\n",
       "      <td>112</td>\n",
       "      <td>82</td>\n",
       "      <td>24</td>\n",
       "      <td>0</td>\n",
       "      <td>28.2</td>\n",
       "      <td>1.282</td>\n",
       "      <td>50</td>\n",
       "    </tr>\n",
       "    <tr>\n",
       "      <th>346</th>\n",
       "      <td>1</td>\n",
       "      <td>139</td>\n",
       "      <td>46</td>\n",
       "      <td>19</td>\n",
       "      <td>83</td>\n",
       "      <td>28.7</td>\n",
       "      <td>0.654</td>\n",
       "      <td>22</td>\n",
       "    </tr>\n",
       "    <tr>\n",
       "      <th>294</th>\n",
       "      <td>0</td>\n",
       "      <td>161</td>\n",
       "      <td>50</td>\n",
       "      <td>0</td>\n",
       "      <td>0</td>\n",
       "      <td>21.9</td>\n",
       "      <td>0.254</td>\n",
       "      <td>65</td>\n",
       "    </tr>\n",
       "    <tr>\n",
       "      <th>231</th>\n",
       "      <td>6</td>\n",
       "      <td>134</td>\n",
       "      <td>80</td>\n",
       "      <td>37</td>\n",
       "      <td>370</td>\n",
       "      <td>46.2</td>\n",
       "      <td>0.238</td>\n",
       "      <td>46</td>\n",
       "    </tr>\n",
       "  </tbody>\n",
       "</table>\n",
       "</div>"
      ],
      "text/plain": [
       "     Pregnancies  Glucose  BloodPressure  SkinThickness  Insulin   BMI   \n",
       "60             2       84              0              0        0   0.0  \\\n",
       "618            9      112             82             24        0  28.2   \n",
       "346            1      139             46             19       83  28.7   \n",
       "294            0      161             50              0        0  21.9   \n",
       "231            6      134             80             37      370  46.2   \n",
       "\n",
       "     DiabetesPedigreeFunction  Age  \n",
       "60                      0.304   21  \n",
       "618                     1.282   50  \n",
       "346                     0.654   22  \n",
       "294                     0.254   65  \n",
       "231                     0.238   46  "
      ]
     },
     "execution_count": 5,
     "metadata": {},
     "output_type": "execute_result"
    }
   ],
   "source": [
    "X_train.head()"
   ]
  },
  {
   "cell_type": "markdown",
   "id": "c06dbdc2-bba9-4440-a0cb-4b6d170d5c6c",
   "metadata": {},
   "source": [
    "Data is not with in a common range. Use StandardScaler"
   ]
  },
  {
   "cell_type": "code",
   "execution_count": 6,
   "id": "786f9a83-e017-4c6d-ad54-a25577ceef8e",
   "metadata": {},
   "outputs": [],
   "source": [
    "scaler = StandardScaler()\n",
    "X_train_scaled = scaler.fit_transform(X_train)\n",
    "# New data. Only use transform\n",
    "X_test_scaled = scaler.transform(X_test)"
   ]
  },
  {
   "cell_type": "code",
   "execution_count": 17,
   "id": "e5bb9d2e-3e9a-4437-b262-f1732e4e294b",
   "metadata": {},
   "outputs": [],
   "source": [
    "# Time for a sexy model\n",
    "model = LinearRegression()\n",
    "model.fit(X_train_scaled, Y_train)\n",
    "divination = model.predict(X_test_scaled)"
   ]
  },
  {
   "cell_type": "code",
   "execution_count": 20,
   "id": "4df6e9c7-ef4c-450f-80f6-f1de7da3c363",
   "metadata": {},
   "outputs": [
    {
     "data": {
      "text/plain": [
       "array([ 0.33550028,  0.23809869,  0.1510522 ,  0.2401365 ,  0.48142376,\n",
       "        0.45257375, -0.17450469,  0.60662287,  0.52417796,  0.70476953,\n",
       "        0.32360466,  0.85290601,  0.38466612,  0.36056948,  0.09946712,\n",
       "        0.41539557,  0.17869123,  0.07782301,  0.80730861,  0.51299477,\n",
       "        0.28090594,  0.08303057,  0.5099157 ,  0.11381771,  0.51325022,\n",
       "        0.82528549,  0.17892718, -0.0594202 ,  0.28338572,  0.16407949,\n",
       "        0.83851225,  0.80737515,  0.68154389,  0.7649502 ,  0.56140297,\n",
       "        0.62123131,  1.06134554,  0.30990775,  0.51752336,  0.63691482,\n",
       "        0.07075333,  0.57757007,  0.55015462,  0.37541745, -0.07644182,\n",
       "        0.50119208,  0.59600162,  0.27464761,  0.42477995,  0.9941898 ,\n",
       "        0.00969584,  0.61763578,  0.73395288,  0.31090975,  0.13456812,\n",
       "       -0.02536316,  0.71219147, -0.30518218,  0.41994556,  0.67869594,\n",
       "        0.66891428,  0.3798452 ,  0.2956646 ,  0.288035  ,  0.06813053,\n",
       "        0.55464338,  0.01368504,  0.6272007 , -0.02033281,  0.6372293 ,\n",
       "        0.61928494,  0.07019372,  0.26388322,  0.14080565,  0.12425109,\n",
       "        0.50054317,  0.24772661,  0.21027229,  0.18419241,  0.28346361,\n",
       "        0.60206367,  0.19720081,  0.04718638,  0.39163459,  0.31373787,\n",
       "        0.75789609,  0.82549769,  0.35944228,  0.1723114 ,  0.0957888 ,\n",
       "        0.05894136,  0.277268  , -0.35746245,  0.52802473,  0.48569971,\n",
       "        0.57670079,  0.40681613,  0.16649133,  0.56927171,  0.09451543,\n",
       "        0.6570335 ,  0.03311435,  0.68073803,  0.48441106,  0.58967882,\n",
       "        0.27055501,  0.33149868,  0.66512401,  0.17581258,  0.51566149,\n",
       "        0.13045166,  0.38010107, -0.0949753 ,  0.65582849,  0.23302651,\n",
       "        0.3716743 ,  0.68391471,  0.28174341,  0.05450268,  0.53690397,\n",
       "        0.04284507,  0.33357357,  0.30472023,  0.10053203,  0.33006507,\n",
       "        0.44782371,  0.02663058,  0.82020965,  1.03616317,  0.66672645,\n",
       "        0.6518381 ,  0.77042295,  0.11555357,  0.44926623,  0.72795331,\n",
       "        0.15230489,  0.21288603,  0.76637265,  0.72722441, -0.20395979,\n",
       "        0.12946513, -0.02149655,  0.27508285,  0.39903148,  0.15993455,\n",
       "        0.33468331,  0.20438069, -0.12662191,  0.43170733,  0.68158975,\n",
       "        0.163167  ,  0.4815615 ,  0.30101739,  0.26110909])"
      ]
     },
     "execution_count": 20,
     "metadata": {},
     "output_type": "execute_result"
    }
   ],
   "source": [
    "divination"
   ]
  },
  {
   "cell_type": "code",
   "execution_count": 11,
   "id": "586f7eb4-9844-4fe3-9f64-3e2400f54bb8",
   "metadata": {},
   "outputs": [
    {
     "name": "stdout",
     "output_type": "stream",
     "text": [
      "Intercept: 0.34690553745928343\n",
      "Coefficients: [ 0.03465559  0.1803234  -0.04219339  0.00820563 -0.03230381  0.11631364\n",
      "  0.03744793  0.07425473]\n"
     ]
    }
   ],
   "source": [
    "# Print intercept and coefficients of the trained model\n",
    "print(\"Intercept:\", model.intercept_)\n",
    "print(\"Coefficients:\", model.coef_)"
   ]
  },
  {
   "cell_type": "code",
   "execution_count": 12,
   "id": "eed4e50d-bbff-40a7-9568-f9c4e74a81a2",
   "metadata": {},
   "outputs": [
    {
     "name": "stdout",
     "output_type": "stream",
     "text": [
      "Intercept: 0.34690553745928343\n",
      "Coefficients: [ 0.03465559  0.1803234  -0.04219339  0.00820563 -0.03230381  0.11631364\n",
      "  0.03744793  0.07425473]\n"
     ]
    }
   ],
   "source": [
    "# Print intercept and coefficients of the trained model\n",
    "print(\"Intercept:\", model.intercept_)\n",
    "print(\"Coefficients:\", model.coef_)"
   ]
  },
  {
   "cell_type": "code",
   "execution_count": null,
   "id": "5074c812-ab82-4828-b316-77e86c004c47",
   "metadata": {},
   "outputs": [],
   "source": []
  },
  {
   "cell_type": "code",
   "execution_count": 13,
   "id": "1268d76e-7ccc-446b-809e-179ceb5e48d4",
   "metadata": {},
   "outputs": [],
   "source": [
    "# Generate predictions for the test set\n",
    "predictions = model.predict(X_test_scaled)"
   ]
  },
  {
   "cell_type": "code",
   "execution_count": 14,
   "id": "b1860949-4fc3-44e5-8ee0-cc9449edb421",
   "metadata": {},
   "outputs": [
    {
     "name": "stdout",
     "output_type": "stream",
     "text": [
      "     Actual  Predicted\n",
      "668       0   0.335500\n",
      "324       0   0.238099\n",
      "624       0   0.151052\n",
      "690       0   0.240136\n",
      "473       0   0.481424\n",
      "..      ...        ...\n",
      "355       1   0.681590\n",
      "534       0   0.163167\n",
      "344       0   0.481562\n",
      "296       1   0.301017\n",
      "462       0   0.261109\n",
      "\n",
      "[154 rows x 2 columns]\n"
     ]
    }
   ],
   "source": [
    "# Compare predictions to original values\n",
    "comparison = pd.DataFrame({'Actual': Y_test, 'Predicted': predictions})\n",
    "print(comparison)"
   ]
  },
  {
   "cell_type": "code",
   "execution_count": 15,
   "id": "35179ac7-16ec-417d-b47e-9048c86d40d2",
   "metadata": {},
   "outputs": [
    {
     "name": "stdout",
     "output_type": "stream",
     "text": [
      "R-squared: 0.2550028117674178\n"
     ]
    }
   ],
   "source": [
    "# Compute R-squared for the model on the test set\n",
    "r_squared = r2_score(Y_test, predictions)\n",
    "print(\"R-squared:\", r_squared)"
   ]
  },
  {
   "cell_type": "markdown",
   "id": "771b8dba-ef16-43dd-b71a-6912b5995e71",
   "metadata": {},
   "source": [
    "I dont seem to be able to get any help. So really need feedback"
   ]
  }
 ],
 "metadata": {
  "kernelspec": {
   "display_name": "Python 3 (ipykernel)",
   "language": "python",
   "name": "python3"
  },
  "language_info": {
   "codemirror_mode": {
    "name": "ipython",
    "version": 3
   },
   "file_extension": ".py",
   "mimetype": "text/x-python",
   "name": "python",
   "nbconvert_exporter": "python",
   "pygments_lexer": "ipython3",
   "version": "3.11.3"
  }
 },
 "nbformat": 4,
 "nbformat_minor": 5
}
